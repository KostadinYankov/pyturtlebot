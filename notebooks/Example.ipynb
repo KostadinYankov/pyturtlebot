{
 "metadata": {
  "name": ""
 },
 "nbformat": 3,
 "nbformat_minor": 0,
 "worksheets": [
  {
   "cells": [
    {
     "cell_type": "code",
     "collapsed": false,
     "input": [
      "from pyturtlebot import get_robot\n",
      "\n",
      "robot = get_robot()\n",
      "\n",
      "# You can print messages to the screen with say\n",
      "robot.say('Robot is ready!')"
     ],
     "language": "python",
     "metadata": {},
     "outputs": [
      {
       "output_type": "stream",
       "stream": "stdout",
       "text": [
        "Robot is ready!\n"
       ]
      }
     ],
     "prompt_number": 1
    },
    {
     "cell_type": "code",
     "collapsed": false,
     "input": [
      "# You can move the robot using the move(linear, angular) function\n",
      "# The linear velocity is in meters per second and the angular velocity is in radians per second\n",
      "# The move command stops after 1/2 second, so keep the robot moving you need to send command repeatedly\n",
      "robot.move(0, 1.1)  # This call returns immediately\n",
      "# But you can wait for any number of seconds before doing something else\n",
      "robot.wait(0.6)\n",
      "robot.move(0, -1.1)"
     ],
     "language": "python",
     "metadata": {},
     "outputs": [],
     "prompt_number": 2
    },
    {
     "cell_type": "code",
     "collapsed": false,
     "input": [
      "# You can also tell the robot to move a certain distance or turn to a certain angle\n",
      "# move_distance takes a distance in meters and a speed\n",
      "robot.say('Warning!!! The robot is about to move forward!!!')\n",
      "robot.wait(5)\n",
      "robot.move_distance(0.25, 0.5)  # This should take about 1/2 second to finish\n",
      "# turn angle takes a number of degress (radians) and an angular speed\n",
      "robot.turn_angle(radians(180), radians(180))  # This should take about a second\n",
      "# Then drive back and turn to face the same way you started!\n",
      "robot.move_distance(0.25, 0.5)\n",
      "robot.turn_angle(radians(-180), radians(180))"
     ],
     "language": "python",
     "metadata": {},
     "outputs": [],
     "prompt_number": 5
    },
    {
     "cell_type": "code",
     "collapsed": false,
     "input": [
      "# You can run a function when the bumper is pressed\n",
      "def on_bumper():\n",
      "    robot.say('OUCH!')\n",
      "    # This will stop the robot\n",
      "    robot.stop()\n",
      "\n",
      "# Now when you press the bumper you should get a message saying 'OUCH!' and the robot should stop\n",
      "robot.on_bumper = on_bumper"
     ],
     "language": "python",
     "metadata": {},
     "outputs": [],
     "prompt_number": 5
    },
    {
     "cell_type": "code",
     "collapsed": true,
     "input": [
      "# If your robot gets out of control and you have to pick it up\n",
      "# You must reset the wheel drop safety, like this:\n",
      "robot.reset_movement()"
     ],
     "language": "python",
     "metadata": {},
     "outputs": [],
     "prompt_number": 6
    },
    {
     "cell_type": "code",
     "collapsed": true,
     "input": [
      "robot.play_sound('cleaning end')"
     ],
     "language": "python",
     "metadata": {},
     "outputs": [],
     "prompt_number": 20
    },
    {
     "cell_type": "code",
     "collapsed": false,
     "input": [],
     "language": "python",
     "metadata": {},
     "outputs": []
    }
   ],
   "metadata": {}
  }
 ]
}