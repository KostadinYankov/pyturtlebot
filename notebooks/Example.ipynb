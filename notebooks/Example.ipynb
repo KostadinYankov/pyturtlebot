{
 "metadata": {
  "name": "Example"
 }, 
 "nbformat": 2, 
 "worksheets": [
  {
   "cells": [
    {
     "cell_type": "code", 
     "collapsed": false, 
     "input": [
      "from pyturtlebot import get_robot", 
      "", 
      "robot = get_robot()", 
      "", 
      "# You can print messages to the screen with say", 
      "robot.say('Robot is ready!')"
     ], 
     "language": "python", 
     "outputs": [], 
     "prompt_number": 1
    }, 
    {
     "cell_type": "code", 
     "collapsed": false, 
     "input": [
      "# You can move the robot using the move(linear, angular) function", 
      "# The linear velocity is in meters per second and the angular velocity is in radians per second", 
      "# The move command stops after 1/2 second, so keep the robot moving you need to send command repeatedly", 
      "robot.move(0, 1.1)  # This call returns immediately", 
      "# But you can wait for any number of seconds before doing something else", 
      "robot.wait(0.6)", 
      "robot.move(0, -1.1)"
     ], 
     "language": "python", 
     "outputs": [], 
     "prompt_number": 2
    }, 
    {
     "cell_type": "code", 
     "collapsed": false, 
     "input": [
      "# You can also tell the robot to move a certain distance or turn to a certain angle", 
      "# move_distance takes a distance in meters and a speed", 
      "robot.say('Warning!!! The robot is about to move forward!!!')", 
      "robot.wait(5)", 
      "robot.move_distance(0.25, 0.5)  # This should take about 1/2 second to finish", 
      "# turn angle takes a number of degress (radians) and an angular speed", 
      "robot.turn_angle(radians(180), radians(180))  # This should take about a second", 
      "# Then drive back and turn to face the same way you started!", 
      "robot.move_distance(0.25, 0.5)", 
      "robot.turn_angle(radians(-180), radians(180))"
     ], 
     "language": "python", 
     "outputs": [], 
     "prompt_number": 5
    }, 
    {
     "cell_type": "code", 
     "collapsed": false, 
     "input": [
      "# You can run a function when the bumper is pressed", 
      "def on_bumper():", 
      "    robot.say('OUCH!')", 
      "    # This will stop the robot", 
      "    robot.stop()", 
      "", 
      "# Now when you press the bumper you should get a message saying 'OUCH!' and the robot should stop", 
      "robot.on_bumper = on_bumper"
     ], 
     "language": "python", 
     "outputs": [], 
     "prompt_number": 5
    }, 
    {
     "cell_type": "code", 
     "collapsed": true, 
     "input": [
      "# If your robot gets out of control and you have to pick it up", 
      "# You must reset the wheel drop safety, like this:", 
      "robot.reset_movement()"
     ], 
     "language": "python", 
     "outputs": [], 
     "prompt_number": 6
    }, 
    {
     "cell_type": "code", 
     "collapsed": true, 
     "input": [], 
     "language": "python", 
     "outputs": []
    }
   ]
  }
 ]
}